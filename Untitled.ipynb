{
 "cells": [
  {
   "cell_type": "markdown",
   "id": "b9bca6cb",
   "metadata": {},
   "source": [
    "### Title of the notebook"
   ]
  },
  {
   "cell_type": "markdown",
   "id": "3306e3ff",
   "metadata": {},
   "source": [
    "#### inroduction part where you put the introduction for this jupiter notebook\n",
    "...\n",
    "..."
   ]
  },
  {
   "cell_type": "markdown",
   "id": "28fe2a2c",
   "metadata": {},
   "source": [
    "#### Data science languages\n",
    "- Python\n",
    "- R\n",
    "- SQL\n",
    "- Julia\n",
    "- Scala\n",
    "- MATLAB\n",
    "- SAS\n",
    "- perl\n",
    "- JAVA"
   ]
  },
  {
   "cell_type": "markdown",
   "id": "6b7ae046",
   "metadata": {},
   "source": [
    "#### Data science libraries\n",
    "- pandas\n",
    "- numpy\n",
    "- scikit-learn\n",
    "- tensorflow\n",
    "- seaborn\n",
    "- statsmodels\n",
    "- NLTK\n",
    "- keras\n",
    "- Gensim"
   ]
  },
  {
   "cell_type": "markdown",
   "id": "84dd851e",
   "metadata": {},
   "source": [
    "#### Data sciece tools table\n",
    "\n",
    "| || Data sciece                 |\n",
    "|-||-----------------------------|\n",
    "|1||Jupyter Notebook / JupyterLab|\n",
    "|2||RStudio                      |\n",
    "|3||PyCharm                      |\n",
    "|4||Tableau                      |\n",
    "|5||KNIME                        |\n",
    "|6||Hadoop                       |\n",
    "|7||IBM Watson Studio            |\n",
    "|8||Google Colab                 |"
   ]
  },
  {
   "cell_type": "markdown",
   "id": "26a49834",
   "metadata": {},
   "source": [
    "#### Arithmetic expression examples\n",
    "\n",
    "- addition       = 3 + 5\n",
    "- Subtraction    = 3 - 5\n",
    "- Multiplication = 5 * 4\n",
    "- Division       = 2 / 9\n",
    "- Exponentiation = 2 ** 3"
   ]
  },
  {
   "cell_type": "code",
   "execution_count": 1,
   "id": "6e13c6b8",
   "metadata": {},
   "outputs": [],
   "source": [
    "# multiply and add numbers\n",
    "result_1 = 2 + 3\n",
    "result_2 = 2 * 3\n",
    "result_3 = (2 + result_2) * result_1\n"
   ]
  },
  {
   "cell_type": "code",
   "execution_count": 2,
   "id": "df6f6606",
   "metadata": {},
   "outputs": [
    {
     "name": "stdout",
     "output_type": "stream",
     "text": [
      "150 minutes is equal to 2.5 hours\n"
     ]
    }
   ],
   "source": [
    "# convert minutes to hours\n",
    "# Input: Number of minutes\n",
    "minutes = 150\n",
    "\n",
    "# Convert minutes to hours\n",
    "hours = minutes / 60\n",
    "\n",
    "print(f\"{minutes} minutes is equal to {hours} hours\")"
   ]
  },
  {
   "cell_type": "markdown",
   "id": "b0911034",
   "metadata": {},
   "source": [
    "#### list of objectives\n",
    "1. target 1\n",
    "2. target 2\n",
    "3. target 3\n",
    "4. target 4"
   ]
  },
  {
   "cell_type": "markdown",
   "id": "fe7cd8c0",
   "metadata": {},
   "source": [
    "#### Athors name\n",
    "##### full name\n"
   ]
  },
  {
   "cell_type": "code",
   "execution_count": null,
   "id": "9002805d",
   "metadata": {},
   "outputs": [],
   "source": []
  }
 ],
 "metadata": {
  "kernelspec": {
   "display_name": "Python 3 (ipykernel)",
   "language": "python",
   "name": "python3"
  },
  "language_info": {
   "codemirror_mode": {
    "name": "ipython",
    "version": 3
   },
   "file_extension": ".py",
   "mimetype": "text/x-python",
   "name": "python",
   "nbconvert_exporter": "python",
   "pygments_lexer": "ipython3",
   "version": "3.9.13"
  }
 },
 "nbformat": 4,
 "nbformat_minor": 5
}
